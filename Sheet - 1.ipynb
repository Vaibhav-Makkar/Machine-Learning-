{
 "cells": [
  {
   "cell_type": "raw",
   "id": "96a087f4",
   "metadata": {},
   "source": [
    "Name - Vaibhav Makkar\n",
    "College - Dr. B.R. Ambedkar National Institute of Technology, Jalandhar\n",
    "Contact No. :- 8360914640\n",
    "E-mail ID - vaibhavm.ec.19@nitj.ac.in , vmakkar9978@gmail.com"
   ]
  },
  {
   "cell_type": "markdown",
   "id": "e3229904",
   "metadata": {},
   "source": [
    "Question 1.\n",
    "A company decided to give bonus of 5% to employee if his/her year of service is\n",
    "more than 5 years. Ask user for their salary and year of service and print the net\n",
    "bonus amount."
   ]
  },
  {
   "cell_type": "code",
   "execution_count": 6,
   "id": "eacee959",
   "metadata": {},
   "outputs": [
    {
     "name": "stdout",
     "output_type": "stream",
     "text": [
      "ENTER YOUR SALARY PLEASE :- 78000\n",
      "ENTER YOUR SERVICE PERIOD IN YEARS :- 5.5\n",
      "YOUR BONUS :-  3900\n",
      "FINAL SALARY :-  81900.0\n"
     ]
    }
   ],
   "source": [
    "import math as m\n",
    "sal=float(input('ENTER YOUR SALARY PLEASE :- '))\n",
    "time=float(input('ENTER YOUR SERVICE PERIOD IN YEARS :- '))\n",
    "bonus=0.00\n",
    "if(time>=5):\n",
    "    bonus=0.05*sal\n",
    "sal_new=sal+bonus\n",
    "print('YOUR BONUS :- ',m.ceil(bonus))\n",
    "print('FINAL SALARY :- ',sal_new)"
   ]
  },
  {
   "cell_type": "markdown",
   "id": "2f17c6f7",
   "metadata": {},
   "source": [
    "Question2. \n",
    "A school has following rules for grading system:\n",
    "a. Below 25 - F \n",
    "b. 25 to 45 - E \n",
    "c. 45 to 50 - D  \n",
    "d. 50 to 60 - C \n",
    "e. 60 to 80 - B \n",
    "f. Above 80 - A  \n",
    "Ask user to enter marks and print the corresponding grade."
   ]
  },
  {
   "cell_type": "code",
   "execution_count": 11,
   "id": "bbf74780",
   "metadata": {},
   "outputs": [
    {
     "name": "stdout",
     "output_type": "stream",
     "text": [
      "ENTER THE MARKS :- 78\n",
      "YOU GET A B GRADE\n"
     ]
    }
   ],
   "source": [
    "marks = float(input('ENTER THE MARKS :- '))\n",
    "if(marks>=80):\n",
    "    print('YOU GET AN A GRADE')\n",
    "elif(marks>=60 and marks<80):\n",
    "    print('YOU GET A B GRADE')\n",
    "elif(marks>=50 and marks<60):\n",
    "    print('YOU GET A C GRADE')\n",
    "elif(marks>=45 and marks<50):\n",
    "    print('YOU GET A D GRADE')\n",
    "elif(marks>=25 and marks<45):\n",
    "    print('YOU GET AN E GRADE')\n",
    "else:\n",
    "    print('YOU GET AN F GRADE')"
   ]
  },
  {
   "cell_type": "markdown",
   "id": "6893655f",
   "metadata": {},
   "source": [
    "Question 3. \n",
    "A student will not be allowed to sit in exam if his/her attendence is less than 75%.\n",
    "Take following input from user\n",
    "Number of classes held\n",
    "Number of classes attended.\n",
    "And print\n",
    "percentage of class attended\n",
    "Is student is allowed to sit in exam or not."
   ]
  },
  {
   "cell_type": "code",
   "execution_count": 4,
   "id": "0ea00a59",
   "metadata": {},
   "outputs": [
    {
     "name": "stdout",
     "output_type": "stream",
     "text": [
      "ENTER NAME :- v\n",
      "ENTER THE TOTAL CLASSES HELD :- 22\n",
      "ENTER THE TOTAL CLASSES ATTENDED :- 22\n",
      "v is eligible to appear for the exam\n"
     ]
    }
   ],
   "source": [
    "name=input('ENTER NAME :- ')\n",
    "classes=int(input('ENTER THE TOTAL CLASSES HELD :- '))\n",
    "attend=int(input('ENTER THE TOTAL CLASSES ATTENDED :- '))\n",
    "percent=(attend/classes)*100\n",
    "if(percent>=75):\n",
    "    print(name,'is eligible to appear for the exam')\n",
    "else:\n",
    "    print(\"Sorry!!\",name,\" can't appear in the examination due to short attendance\")"
   ]
  },
  {
   "cell_type": "markdown",
   "id": "86cfed18",
   "metadata": {},
   "source": [
    "Question 4.\n",
    "Ask user to enter age, sex ( M or F ), marital status ( Y or N ) and then using\n",
    "following rules print their place of service.\n",
    "if employee is female, then she will work only in urban areas.\n",
    "if employee is a male and age is in between 20 to 40 then he may work in anywhere\n",
    "if employee is male and age is in between 40 t0 60 then he will work in urban areas\n",
    "only.\n",
    "And any other input of age should print \"ERROR\""
   ]
  },
  {
   "cell_type": "code",
   "execution_count": 17,
   "id": "161a8eeb",
   "metadata": {},
   "outputs": [
    {
     "name": "stdout",
     "output_type": "stream",
     "text": [
      "ENTER AGE :- 55\n",
      "ENTER SEX :- f\n",
      "ENTER MARITAL STATUSn\n",
      "YOU CAN WORK IN URBAN AREAS ONLY \n"
     ]
    }
   ],
   "source": [
    "age=int(input('ENTER AGE :- '))\n",
    "sex=input('ENTER SEX :- ')\n",
    "marital=input('ENTER MARITAL STATUS')\n",
    "marital=marital.casefold()\n",
    "sex=sex.casefold()\n",
    "if(sex=='f'):\n",
    "    print('YOU CAN WORK IN URBAN AREAS ONLY ')\n",
    "elif(sex=='m' and (age>=20 and age<=40)):\n",
    "    print('YOU CAN WORK ANYWHERE')\n",
    "elif(sex=='m' and (age>=40 and age<=60)):\n",
    "    print('YOU CAN WORK IN URBAN AREAS ONLY ')\n",
    "else:\n",
    "    print('ERROR !! ')"
   ]
  },
  {
   "cell_type": "markdown",
   "id": "e44eb09e",
   "metadata": {},
   "source": [
    "Question 5. Take 10 integers from keyboard using loop and print their average value on the screen."
   ]
  },
  {
   "cell_type": "code",
   "execution_count": 20,
   "id": "d729faa7",
   "metadata": {},
   "outputs": [
    {
     "name": "stdout",
     "output_type": "stream",
     "text": [
      "ENTER NUMBER :- 54\n",
      "ENTER NUMBER :- 77\n",
      "ENTER NUMBER :- 62\n",
      "ENTER NUMBER :- -85\n",
      "ENTER NUMBER :- 45\n",
      "ENTER NUMBER :- 89\n",
      "ENTER NUMBER :- 78\n",
      "ENTER NUMBER :- 00\n",
      "ENTER NUMBER :- 15\n",
      "ENTER NUMBER :- 12\n",
      "AVERAGE IS :-  28.916666666666668\n"
     ]
    }
   ],
   "source": [
    "sum=0\n",
    "for i in range(10):\n",
    "    n=int(input('ENTER NUMBER :- '))\n",
    "    sum+=n\n",
    "avg=sum/n\n",
    "print('AVERAGE IS :- ',avg)"
   ]
  },
  {
   "cell_type": "markdown",
   "id": "8139f577",
   "metadata": {},
   "source": [
    "Question 6. Write a program to calculate factorial of number"
   ]
  },
  {
   "cell_type": "code",
   "execution_count": 23,
   "id": "0aa37fdc",
   "metadata": {},
   "outputs": [],
   "source": [
    "def fact(n):\n",
    "    prod=1\n",
    "    for i in range(1,n+1):\n",
    "        prod*=i\n",
    "    return prod"
   ]
  },
  {
   "cell_type": "code",
   "execution_count": 24,
   "id": "2a91304e",
   "metadata": {},
   "outputs": [
    {
     "name": "stdout",
     "output_type": "stream",
     "text": [
      "ENTER A NUMBER :- 6\n",
      "FACTORIAL OF 6 IS 720\n"
     ]
    }
   ],
   "source": [
    "n=int(input('ENTER A NUMBER :- '))\n",
    "print('FACTORIAL OF',n,'IS',fact(n))"
   ]
  },
  {
   "cell_type": "markdown",
   "id": "0acd5db1",
   "metadata": {},
   "source": [
    "Question 7. Take integer inputs from user until he/she presses q ( Ask to press q to quit after\n",
    "every integer input ). Print average and product of all numbers."
   ]
  },
  {
   "cell_type": "code",
   "execution_count": 29,
   "id": "d2195939",
   "metadata": {},
   "outputs": [
    {
     "name": "stdout",
     "output_type": "stream",
     "text": [
      "PRESS q/Q TO QUIT OR ENTER NEXT NUMBER :-78\n",
      "PRESS q/Q TO QUIT OR ENTER NEXT NUMBER :-62\n",
      "PRESS q/Q TO QUIT OR ENTER NEXT NUMBER :-54\n",
      "PRESS q/Q TO QUIT OR ENTER NEXT NUMBER :-98\n",
      "PRESS q/Q TO QUIT OR ENTER NEXT NUMBER :-Q\n",
      "You Entered q !! \n",
      "The Sum is :-  292\n",
      "The Product is :- 25592112\n"
     ]
    }
   ],
   "source": [
    "sum=0\n",
    "prod=1\n",
    "n=input('PRESS q/Q TO QUIT OR ENTER NEXT NUMBER :-')\n",
    "while(True):\n",
    "    if(n.casefold()!='q'):\n",
    "        sum+=int(n)\n",
    "        prod*=int(n)\n",
    "    else:\n",
    "        print('You Entered q !! ')\n",
    "        break\n",
    "    n=input('PRESS q/Q TO QUIT OR ENTER NEXT NUMBER :-')\n",
    "print('The Sum is :- ',sum)\n",
    "print('The Product is :-',prod)\n",
    "    "
   ]
  },
  {
   "cell_type": "markdown",
   "id": "4e267485",
   "metadata": {},
   "source": [
    "Question 8. Armstrong Numbers between 100 and 500\n"
   ]
  },
  {
   "cell_type": "code",
   "execution_count": 12,
   "id": "5d418aab",
   "metadata": {},
   "outputs": [
    {
     "name": "stdout",
     "output_type": "stream",
     "text": [
      "153 Is an Armstrong No\n",
      "370 Is an Armstrong No\n",
      "371 Is an Armstrong No\n",
      "407 Is an Armstrong No\n"
     ]
    }
   ],
   "source": [
    "for i in range (100,501):\n",
    "    x=i\n",
    "    s=0\n",
    "    while(x>0):\n",
    "        d=x%10\n",
    "        s+=(d**3)\n",
    "        x=x//10\n",
    "    if(s==i):\n",
    "        print(i,'Is an Armstrong No')"
   ]
  },
  {
   "cell_type": "markdown",
   "id": "48a3a3b5",
   "metadata": {},
   "source": [
    "Question 9. Length without len()"
   ]
  },
  {
   "cell_type": "code",
   "execution_count": 22,
   "id": "92098f89",
   "metadata": {},
   "outputs": [
    {
     "name": "stdout",
     "output_type": "stream",
     "text": [
      "Enter a string :-Vkm\n",
      "Length of string is :-  3\n"
     ]
    }
   ],
   "source": [
    "str1 = input('Enter a string :-')\n",
    "x=0\n",
    "for c in str1:\n",
    "    x+=1\n",
    "print('Length of string is :- ',x)"
   ]
  },
  {
   "cell_type": "code",
   "execution_count": 26,
   "id": "a59bab75",
   "metadata": {},
   "outputs": [
    {
     "name": "stdout",
     "output_type": "stream",
     "text": [
      "Enter a string :-Vaibhav Kumar\n",
      "V.Kumar\n"
     ]
    }
   ],
   "source": [
    "def abbreviation(s):\n",
    "    l = s.split()\n",
    "    new = \"\" \n",
    "    for i in range(len(l)-1):\n",
    "        s = l[i] \n",
    "        new += (s[0].upper()+'.')\n",
    "    new += l[-1].title()\n",
    "    return new \n",
    "      \n",
    " \n",
    "s = input('Enter a string :-')\n",
    "print(abbreviation(s))     "
   ]
  }
 ],
 "metadata": {
  "kernelspec": {
   "display_name": "Python 3",
   "language": "python",
   "name": "python3"
  },
  "language_info": {
   "codemirror_mode": {
    "name": "ipython",
    "version": 3
   },
   "file_extension": ".py",
   "mimetype": "text/x-python",
   "name": "python",
   "nbconvert_exporter": "python",
   "pygments_lexer": "ipython3",
   "version": "3.8.8"
  }
 },
 "nbformat": 4,
 "nbformat_minor": 5
}
